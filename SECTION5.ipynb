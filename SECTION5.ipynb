{
 "cells": [
  {
   "cell_type": "markdown",
   "metadata": {},
   "source": [
    "# FEATURE GENERATION AND SELECTION"
   ]
  },
  {
   "cell_type": "markdown",
   "metadata": {},
   "source": [
    "# VARIABLES VS FEATURES\n",
    "* Variables are the raw data from your dataset.\n",
    "* Features are what ultimately gets fed into your model.\n",
    "* You may use variables as features, or transform your variables.  Usually a combination of both.\n",
    "\n",
    "# REASONS FOR FEATURE GENERATION\n",
    "* Reduce dimensionality.\n",
    "* Help the model capture complex signals.\n",
    "\n",
    "# METHODS OF FEATURE GENERATION\n",
    "* Domain Knowledge: Combine variables, grouping, etc.\n",
    "* Filter Based Methods: Use statistical measures to determine which features are more predictive of the target.\n",
    "* Algorithmic Methods: Clustering and PCA."
   ]
  },
  {
   "cell_type": "markdown",
   "metadata": {},
   "source": [
    "# FEATURE SELECTION\n",
    "* Once you have generated your features - you begin the feature selection process.\n",
    "* Define Feature Selection as the process of selecting a subset of features to train the model with.\n",
    "* There are 3 general approaches (Can use any combination of some or all):\n",
    "\n",
    "**Subject Matter Expertise:**\n",
    "* Use domain knowledge to remove nonsensical features as well as features that will be highly correlated.\n",
    "\n",
    "**Filter Based Techniques:**\n",
    "* Uses statistical tests to determine a subset of features with high predicive power.\n",
    "\n",
    "**Algorithmic Methods:**\n",
    "* Involve feature selection as part of the model itself (Embedded Methods).\n",
    "* Analyze the structure of a fitted model to understand the most important features.\n",
    "\n",
    "**Challenge:**\n",
    "* Unlimited combination of features to choose from.\n",
    "* Performance of features depends on the model and combination of variables.\n",
    "* Typically several iterations before settling on final model."
   ]
  },
  {
   "cell_type": "markdown",
   "metadata": {},
   "source": [
    "# FILTER BASED TECHNIQUES\n"
   ]
  },
  {
   "cell_type": "markdown",
   "metadata": {},
   "source": [
    "**CORRELATION**  \n",
    "* **Pearson:** $r = \\rho_{x,y} = COV(X,Y)/\\sigma_x \\sigma_y $\n",
    "* Measures strength of LINEAR relationship between variables.\n",
    "* **Kendall:**  Kendall's Rank ; Kendall's Tau. Measures relationship between rankings of ordinal variables.\n",
    "* Tests how one variable increases/decreases as the other variable does.  Relationship does not have to be linear.\n",
    "* **Spearman:** Like Kendall - but magnitude is considered.\n",
    "* Kendall and Spearman's are designed for non-parametric and non-normal data (unlike Pearson's).  \n",
    "\n",
    "* Outliers impact Pearson more than Kendall and Spearman.\n",
    "\n",
    "Rule of Thumb:  Correlation value of 50% or more wih the target variable suggests a possible predictive relationship.  Can also be used as a relative value when initially filtering your feature set."
   ]
  },
  {
   "cell_type": "markdown",
   "metadata": {},
   "source": [
    "**Calculate (Pearson) correlation with Target Variable for all Numeric Predictor Variables.**"
   ]
  },
  {
   "cell_type": "code",
   "execution_count": 42,
   "metadata": {},
   "outputs": [
    {
     "data": {
      "text/html": [
       "<dl class=dl-horizontal>\n",
       "\t<dt>price</dt>\n",
       "\t\t<dd>1</dd>\n",
       "\t<dt>pred</dt>\n",
       "\t\t<dd>0.922320691063394</dd>\n",
       "\t<dt>carat</dt>\n",
       "\t\t<dd>0.921591301193477</dd>\n",
       "\t<dt>x</dt>\n",
       "\t\t<dd>0.884435161016127</dd>\n",
       "\t<dt>y</dt>\n",
       "\t\t<dd>0.865420897864187</dd>\n",
       "\t<dt>z</dt>\n",
       "\t\t<dd>0.861249443851448</dd>\n",
       "\t<dt>table</dt>\n",
       "\t\t<dd>0.127133902121742</dd>\n",
       "\t<dt>depth</dt>\n",
       "\t\t<dd>-0.010647404584143</dd>\n",
       "\t<dt>target</dt>\n",
       "\t\t<dd>-0.0971753848620544</dd>\n",
       "</dl>\n"
      ],
      "text/latex": [
       "\\begin{description*}\n",
       "\\item[price] 1\n",
       "\\item[pred] 0.922320691063394\n",
       "\\item[carat] 0.921591301193477\n",
       "\\item[x] 0.884435161016127\n",
       "\\item[y] 0.865420897864187\n",
       "\\item[z] 0.861249443851448\n",
       "\\item[table] 0.127133902121742\n",
       "\\item[depth] -0.010647404584143\n",
       "\\item[target] -0.0971753848620544\n",
       "\\end{description*}\n"
      ],
      "text/markdown": [
       "price\n",
       ":   1pred\n",
       ":   0.922320691063394carat\n",
       ":   0.921591301193477x\n",
       ":   0.884435161016127y\n",
       ":   0.865420897864187z\n",
       ":   0.861249443851448table\n",
       ":   0.127133902121742depth\n",
       ":   -0.010647404584143target\n",
       ":   -0.0971753848620544\n",
       "\n"
      ],
      "text/plain": [
       "      price        pred       carat           x           y           z \n",
       " 1.00000000  0.92232069  0.92159130  0.88443516  0.86542090  0.86124944 \n",
       "      table       depth      target \n",
       " 0.12713390 -0.01064740 -0.09717538 "
      ]
     },
     "metadata": {},
     "output_type": "display_data"
    }
   ],
   "source": [
    "data.diamonds <- diamonds %>%\n",
    "    select(-c(cut,color,clarity))\n",
    "\n",
    "b.Pearson <- cor(data.diamonds, method = \"pearson\")[ ,c(\"price\")]\n",
    "b.Pearson <- sort(b.Pearson, decreasing = TRUE)\n",
    "b.Pearson"
   ]
  },
  {
   "cell_type": "markdown",
   "metadata": {},
   "source": [
    "**MUTUAL INFORMATION**  \n",
    "* Measures the contribution of a variable toward reducing uncertainty about the value of another variable.\n",
    "* Useful in feature selection: maximizes mutual info between joint distribution of training variables and target in datasets with many dimensions.\n",
    "* Many variations of the mutual information score.  \n",
    "* **Entropy:**$=\\sum_{x,y} p(x,y)log\\frac{p(x,y)}{p(x)p(y)}$\n",
    "\n",
    "* Values are for relative purposes - not useful in an absolute sense."
   ]
  },
  {
   "cell_type": "markdown",
   "metadata": {},
   "source": [
    "**MINIMUM REDUNDANCY MAXIMUM RELEVANCE METHOD**\n",
    "* Select variables that have high correlation with the target and low mutual info with other variables."
   ]
  },
  {
   "cell_type": "markdown",
   "metadata": {},
   "source": [
    "**Chi Square Test**\n",
    "* $X^2=\\sum_{i=1}^{m} \\sum_{j=1}^{n}\\frac{(O_{ij}-E_{ij})}{E_{i,j}}$ \n",
    "* Test for independence.\n",
    "* Primarily used for Classification Models."
   ]
  },
  {
   "cell_type": "markdown",
   "metadata": {},
   "source": [
    "# ALGORITHMIC METHODS"
   ]
  },
  {
   "cell_type": "markdown",
   "metadata": {},
   "source": [
    "**Regularization**\n",
    "* Add a penalty term to your objective function (Goodness of Fit measure you are trying to minimize).  Penalty for more parameters.\n",
    "* Want to avoid overly complex models that don't generalize well.\n",
    "* Begin by covering 3 types of regularized regression.\n",
    "* Note: Important to standardize data when using regularized regression.\n",
    "\n",
    "**Ridge Regression**\n",
    "* $\\sum_{m=1}^{M} \\beta^2_m$\n",
    "* Will not reduce coefficients to zero.\n",
    "\n",
    "**Lasso Regression**\n",
    "* $\\sum_{m=1}^{M} |\\beta_m|$\n",
    "* Can be used for feature selection (can reduce coefficients to zero).\n",
    "\n",
    "**Elastic Net Regression**\n",
    "* $\\sum_{m=1}^{M} \\beta^2_m$ + $\\alpha\\sum_{m=1}^{M} |\\beta_m|$\n",
    "* Alpha: (0 < alpha < 1) mixing coefficient - determines relative weight of ridge and lasso."
   ]
  },
  {
   "cell_type": "markdown",
   "metadata": {},
   "source": [
    "**Hyperparameter Tuning**\n",
    "* Alpha and Lambda from regularized regression are examples of hyperparameters.  Parameters that are part of the algorithm used to generate the final model.  \n",
    "* Hyperparameter tuning is the process of optimizing the hyperparameters."
   ]
  },
  {
   "cell_type": "markdown",
   "metadata": {},
   "source": [
    "# TREE BASED MODELS AND VARIABLE IMPORTANCE"
   ]
  },
  {
   "cell_type": "markdown",
   "metadata": {},
   "source": [
    "**BRIEF SUMMARY OF TREE BASED MODELS**\n",
    "* Random forest models all include decision tree variants.\n",
    "* Decision trees identify optimal data splits - based on definition of optimal.\n",
    "* Splits continue until threshold reached and no more information can be gained.\n",
    "* Allows us to investigate non-linear relationships."
   ]
  },
  {
   "cell_type": "markdown",
   "metadata": {},
   "source": [
    "**VARIABLE IMPORTANCE**\n",
    "* Easy to run a random forest. \n",
    "* Inspect variable importance plots for insights into potential features in your GLM."
   ]
  },
  {
   "cell_type": "markdown",
   "metadata": {},
   "source": [
    "# TRAIN AND VALIDATE"
   ]
  },
  {
   "cell_type": "markdown",
   "metadata": {},
   "source": [
    "Basic Concept:  Before submitting a model for approval - you want to see how well it performs on data that was not used in model development.  The process of developing your model is referred to as training your model.  The process of checking model performance with unseen data is called validating your model.  One of the following two approaches are generally utilized:\n",
    "* **Test/Train/Validate:** Randomly split data into 3 portions.\n",
    "    * Training dataset:  Used to train your model.  \n",
    "    * Validation dataset: Used to Validate your model.\n",
    "    * Test dataset: Portion of the data that is put away before modeling begins.  This dataset is not to be viewed again until you have finalized your model.\n",
    "    * A common split is 70/20/10 - but there is no fixed rule.  Depends on size of dataset.  Ideally you want as robust a dataset as possible for training.  Need all 3 datasets to be robust enough to give meaningful results."
   ]
  },
  {
   "cell_type": "markdown",
   "metadata": {},
   "source": [
    "**Using caret package to create data splits**"
   ]
  },
  {
   "cell_type": "code",
   "execution_count": 19,
   "metadata": {},
   "outputs": [
    {
     "data": {
      "text/html": [
       "53940"
      ],
      "text/latex": [
       "53940"
      ],
      "text/markdown": [
       "53940"
      ],
      "text/plain": [
       "[1] 53940"
      ]
     },
     "metadata": {},
     "output_type": "display_data"
    },
    {
     "data": {
      "text/html": [
       "26970"
      ],
      "text/latex": [
       "26970"
      ],
      "text/markdown": [
       "26970"
      ],
      "text/plain": [
       "[1] 26970"
      ]
     },
     "metadata": {},
     "output_type": "display_data"
    },
    {
     "data": {
      "text/html": [
       "26970"
      ],
      "text/latex": [
       "26970"
      ],
      "text/markdown": [
       "26970"
      ],
      "text/plain": [
       "[1] 26970"
      ]
     },
     "metadata": {},
     "output_type": "display_data"
    }
   ],
   "source": [
    "library(caret)\n",
    "library(ggplot2)\n",
    "\n",
    "diamonds$target<- ifelse(diamonds$cut == \"Ideal\", 1,0)\n",
    "\n",
    "set.seed(1000)\n",
    "training.indices <- createDataPartition(diamonds$target, p = 0.5, list = FALSE)\n",
    "data.training <- diamonds[training.indices, ] \n",
    "data.validation <- diamonds[-training.indices, ]\n",
    "\n",
    "nrow(diamonds)\n",
    "nrow(data.training)\n",
    "nrow(data.validation)"
   ]
  },
  {
   "cell_type": "markdown",
   "metadata": {},
   "source": [
    "* **K-Fold Cross Validation:**\n",
    "    1. Set Testing dataset aside as with Test/Train/Validate approach.\n",
    "    2. Split remaining data into k equal sized splits (folds).\n",
    "    3. Train on (k-1) folds and Test on remaining fold (do this k times)."
   ]
  },
  {
   "cell_type": "markdown",
   "metadata": {},
   "source": [
    "# BUILDING A GLM USING THE GLMNET LIBRARY\n",
    "* Use the 2 variables with highest correlation in Correlation section above."
   ]
  },
  {
   "cell_type": "code",
   "execution_count": 45,
   "metadata": {},
   "outputs": [
    {
     "data": {
      "image/png": "[encoded data removed]",
      "text/plain": [
       "plot without title"
      ]
     },
     "metadata": {},
     "output_type": "display_data"
    }
   ],
   "source": [
    "library(glmnet)\n",
    "library(ggplot2)\n",
    "library(dplyr)\n",
    "\n",
    "diamonds$variable2 <- diamonds$x\n",
    "\n",
    "X <- diamonds %>%\n",
    "        select(carat, variable2)\n",
    "\n",
    "\n",
    "X <-as.matrix(X)\n",
    "\n",
    "formula.lm <- as.formula('y ~ carat + variable2')\n",
    "model.lm <- glmnet(X,y = diamonds$price, family = 'gaussian', alpha = 0, lambda = 0)\n",
    "\n",
    "diamonds$pred <- predict(model.lm, newx = X)\n",
    "\n",
    "# Plot the results\n",
    "p1 <- ggplot(data = diamonds, aes(x = x, y = y)) + geom_point(color = \"blue\", size = 3) + geom_line(aes(y=diamonds$pred))\n",
    "p1"
   ]
  },
  {
   "cell_type": "markdown",
   "metadata": {},
   "source": [
    "**View Coefficients**"
   ]
  },
  {
   "cell_type": "code",
   "execution_count": 46,
   "metadata": {},
   "outputs": [
    {
     "data": {
      "text/plain": [
       "2 x 1 sparse Matrix of class \"dgCMatrix\"\n",
       "                 s0\n",
       "carat     10077.253\n",
       "variable2 -1006.776"
      ]
     },
     "metadata": {},
     "output_type": "display_data"
    }
   ],
   "source": [
    "model.lm$beta"
   ]
  },
  {
   "cell_type": "markdown",
   "metadata": {},
   "source": [
    "# RIDGE REGRESSION WITH GLMNET"
   ]
  },
  {
   "cell_type": "code",
   "execution_count": null,
   "metadata": {},
   "outputs": [],
   "source": [
    "```{r}\n",
    "library(glmnet)\n",
    "\n",
    "#Here is a clever way to create the data matrix. This one doesn't require keeping track of which columns contain the features.\n",
    "X <- model.matrix(formula.lm, data = df)\n",
    "\n",
    "#Lambda has arbitrarily been set to 0.1. Alpha = 0 implies ridge regression (1 implies lasso and anything between is elasticnet). Also, note that the default is to standardize the features, but the estimated coefficients are on the scale and location of the original values.\n",
    "model.lm.ridge <- glmnet(X, y = df$y,\n",
    "                         family = \"gaussian\",\n",
    "                         alpha = 0,\n",
    "                         lambda = 0.1)\n",
    "\n",
    "# Predict results (so we can plot the line)\n",
    "df$pred_ridge01 <- predict(model.lm.ridge, newx = X)\n",
    "\n",
    "# Plot the results\n",
    "p1 <- ggplot(data = df, aes(x = x, y = y)) + geom_point(color = \"blue\", size = 3) + geom_line(aes(y=df$pred_ridge01))\n",
    "p1"
   ]
  }
 ],
 "metadata": {
  "kernelspec": {
   "display_name": "R",
   "language": "R",
   "name": "ir"
  },
  "language_info": {
   "codemirror_mode": "r",
   "file_extension": ".r",
   "mimetype": "text/x-r-source",
   "name": "R",
   "pygments_lexer": "r",
   "version": "3.6.1"
  }
 },
 "nbformat": 4,
 "nbformat_minor": 4
}
