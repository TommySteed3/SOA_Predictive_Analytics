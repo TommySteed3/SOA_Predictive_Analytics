{
 "cells": [
  {
   "cell_type": "markdown",
   "metadata": {},
   "source": [
    "**DATES**"
   ]
  },
  {
   "cell_type": "code",
   "execution_count": null,
   "metadata": {},
   "outputs": [],
   "source": [
    "data.911.timebands <- data.frame(TimeStamp = data.911[sample(c(1:nrow(data.911)), 20),c(\"Time Stamp\")])\n",
    "data.911.timebands$Date <- format(as.POSIXlt(data.911.timebands$TimeStamp), \"%Y-%m-%d\")\n",
    "data.911.timebands$DateTimeHour <- format(as.POSIXlt(data.911.timebands$TimeStamp), \"%Y-%m-%d %H\")\n",
    "data.911.timebands$Year <- format(as.POSIXlt(data.911.timebands$TimeStamp), \"%Y\")\n",
    "data.911.timebands$Month <- format(as.POSIXlt(data.911.timebands$TimeStamp), \"%m\")"
   ]
  },
  {
   "cell_type": "markdown",
   "metadata": {},
   "source": [
    "# DESCRIBING VARIABLES #\n",
    "* Target Variables.  AKA Dependent Variables.  These are the values we are trying to predict.\n",
    "* Predictor Variables.  These are used to predict our Target variable.  \n",
    "\n",
    "* Non-Numeric:\n",
    "    * Ordinal:  Meaningful Order vs Nominal.\n",
    "    * Categorical:  Defined number of levels.  Factor.\n",
    "    * Strings: Not a defined number of levels.  Character.  \n",
    "    \n",
    "* Numeric:\n",
    "    * Continuous vs Discrete.\n",
    "    \n",
    "    \n",
    "* Dimensionality:  Many uses of this word in data science.\n",
    "    * Dimensionality of the Data: Number of variables within the data (columns).\n",
    "    * Dimensionality of a Categorical Variable: Number of levels.\n",
    "    \n",
    "* Higher Dimension Variable:  More Dimensions.  HANDLE WITH CARE:\n",
    "    * Often low exposure at some levels.\n",
    "    * Some algorithms handle all combos - can overfit - and results are not intuitive.\n",
    "    * More difficult to comprehend - intuition can fail us.\n",
    "    \n",
    "* Granularity: How precisely a variable is measured.\n",
    "    * Address is most granular vs Country is least.\n",
    "    \n",
    "* There are instances where you want to make the data more or less granular ~ Higher or Lower Dimensionality.\n",
    "\n",
    "**Variable Distributions**\n",
    "Important to understand for a number of reasons:  \n",
    "\n",
    "* Does distribution make sense?\n",
    "* Understand distribution of target to see if your model can predict.\n",
    "* Ensure samples are representative of wider population.\n",
    "* Identify areas where limited exposure could lead to overfitting."
   ]
  },
  {
   "cell_type": "markdown",
   "metadata": {},
   "source": [
    "# DATA QUALITY #\n",
    "* Substantial undertaking to understand and have confidence in data.\n",
    "* Some initial recommended steps.\n",
    "* ASOP 23: use your judgment to decide whether the data is of sufficient quality given the purpose it is to be used for and document any concerns, limitations, or other material data issues you become aware of.  \n",
    "\n",
    "**Data Quality Assessment Techniques**\n",
    "* Do common sense checks (ie variable distribution and business rule checks)\n",
    "* Understand the data generation process to check for potential errors\n",
    "\n",
    "**What determines sufficient data quality?**\n",
    "* Is data sufficiently documented?\n",
    "* Are the variables accurate?\n",
    "* Understand extent to which data provider ensures accuracy.\n",
    "* Are quantities measured in consistent units?\n",
    "* Is the data well populated?\n",
    "* Is the data representative of the modeled population?\n",
    "\n",
    "\n",
    "\n",
    "\n",
    "    "
   ]
  },
  {
   "cell_type": "markdown",
   "metadata": {},
   "source": [
    "# DATA DESIGN #\n",
    "* Process of going from existing dataset to the data you will use in your modeling project.\n",
    "* Several Components.\n",
    "\n",
    "* Time Frame: Choose appropriate time frame in order to most closely reflect future expectations.  Capture:\n",
    "    * Black Swan Events\n",
    "    * Changing cultural/social behaviors\n",
    "    * Other developments that significantly affect the outcome you are modeling\n",
    "    \n",
    "**Sampling**\n",
    "* Random Sampling: Drow random records without replacement with each record equally likely to be selected\n",
    "* Stratified Sampling: Independently draw set number from each strata (group) in your data.  Random sampling in groups.\n",
    "    * Oversampling: More samples from minority group\n",
    "    * Undersampling: Fewer samples from majority group\n",
    "* Systematic Sampling: Pattern such as every nth record - or time frame.\n",
    "\n",
    "\n",
    "**Why do we sample?**\n",
    "* Appropriate time frame ; size ; model testing ; irrelevant/misleading data ; imbalanced data.  \n",
    "\n",
    "* Size: Might not be feasible to model entire dataset.\n",
    "* Model Testing: Does model *generalize* well.\n",
    "* Irrelevant/misleading data: For example - remove observations under age X.\n",
    "* Imbalanced data: oversample/undersample.\n",
    "\n"
   ]
  },
  {
   "cell_type": "markdown",
   "metadata": {},
   "source": [
    "# DATA BLENDING AND MATCHING #\n",
    "* Data Matching: Process of taking records from one dataset and combine with another."
   ]
  },
  {
   "cell_type": "markdown",
   "metadata": {},
   "source": [
    "# DATA VISUALIZATION #\n",
    "* Generally speaking - 3 main aspects of visualization: \n",
    "    * Data Mining\n",
    "    * Graphic Design\n",
    "    * Storytelling\n",
    "    \n",
    "* Should be used in all stages of data analytics.\n",
    "\n",
    "* Scatterplot: Good for comparing 2 continuous variables.\n",
    "* Histogram:  Not a bar chart.  Histogram shows a density function.  Need to choose binning correctly.\n",
    "* 2D Histogram: Presents frequency with a color scale.  \n",
    "\n",
    "* Frequency and Density Plots: Frequency plots are similar to histograms - but they draw a curve connecting the counts in the histogram.  Shows peaks and shape in more detail.  Density plots plot an estimate using a density function based on observed data.  \n",
    "\n",
    "**BOX PLOT**\n",
    "    * Box:  25th, 50th (median), and 75th percentiles (this is the Inter-Quartile Range (IQR)).\n",
    "    * Whiskers: Highest value that is still within 75th + 1.5 * IQR ; Lowest value still within 25th - 1.5* IQR.\n",
    "    * Outliers: Beyond the whiskers.\n",
    "    \n",
    "**ggpairs**\n",
    "* Grouped histograms for comparing 2 categoricals.\n",
    "* Scatterplots for comparing 2 numericals.\n",
    "* Box Plots for categorical v numerical comparisons.\n",
    "* Correlation of 2 numericals.\n",
    "\n",
    "\n",
    "\n"
   ]
  },
  {
   "cell_type": "markdown",
   "metadata": {},
   "source": [
    "# DATA TRANSFORMATION #\n",
    "* Data transformation needs heavily dependent on model type selected.\n",
    "* Reasons include:\n",
    "    * Better visualize.\n",
    "    * Meet requirements of certain algorithms.\n",
    "    * Help improve model performance.\n",
    "    \n",
    "**Normalization**\n",
    "* The process of transforming the data to the range [0,1] \n",
    "* $X'= \\frac{X-MIN(X)}{MAX(X)-MIN(X)}$\n",
    "* Useful when distance is used - like with K-Means Clustering.\n",
    "\n",
    "**Log Transformations**\n",
    "* Brings a skewed distribution back into symmetry.\n",
    "* Generally a good idea when values range over several orders of magnitude.\n",
    "* Modeling techniques often have difficulty with wide ranges like this.\n",
    "* Logs are naturally multiplicative:\n",
    "    * log scales inform on relative changes (multiplicative) ; linear scale informs on absolute change (additive)\n",
    "\n",
    "**Standardization**\n",
    "* $X'= \\frac{X-MEAN(X)}{STD(X)}$\n",
    "* Many algorithms assume all variables centered at zero with unit variance.  Variables with larger variance will dominate signal.  Examples: SVM ; Penalized Regression.\n",
    "\n",
    "**Power Transformations**\n",
    "* Square/Cube (1/2 ; 1/3): Roots: Similar to log-transforms. Useful for reducing right-skew.\n",
    "* Reciprocal (-1): Useful to alter shape of distribution and ease interpretation of ratios.\n",
    "* Square/Cube( 2 ; 3): Useful for reducing left-skew.\n",
    "\n",
    "**Scaling to Unit Length**\n",
    "* This is used when a scalar matrix is used in the distance measurement.\n",
    "* $X' = \\frac{X}{||X||}$ where ||X|| is the Euclidean length of the vector.\n",
    "\n",
    "**Logit**\n",
    "* Log odds ratio.\n",
    "* $X' = log(\\frac{X}{1-X})$\n",
    "* Used to transform probabilities, percentages, and proportions."
   ]
  },
  {
   "cell_type": "markdown",
   "metadata": {},
   "source": [
    "# BINARIZE WITH CARET #\n",
    "* DummyVars"
   ]
  },
  {
   "cell_type": "markdown",
   "metadata": {},
   "source": [
    "# SKEWED DATA #\n",
    "* Right Skew:  Has very large values but not correspondingly small values.  Median < Mean ; ~ Mode < Median\n",
    "* Left Skew: Has very small values but not correspondingly large values.  Mean > Median ; ~ Mode > Median"
   ]
  },
  {
   "cell_type": "code",
   "execution_count": 1,
   "metadata": {},
   "outputs": [
    {
     "name": "stderr",
     "output_type": "stream",
     "text": [
      "Loading required package: lattice\n",
      "Loading required package: ggplot2\n",
      "Registered S3 methods overwritten by 'ggplot2':\n",
      "  method         from \n",
      "  [.quosures     rlang\n",
      "  c.quosures     rlang\n",
      "  print.quosures rlang\n"
     ]
    },
    {
     "ename": "ERROR",
     "evalue": "Error in is.data.frame(data): object 'data.all' not found\n",
     "output_type": "error",
     "traceback": [
      "Error in is.data.frame(data): object 'data.all' not found\nTraceback:\n",
      "1. dummyVars(formula = \"~ continent\", data.all, sep = \"_\")",
      "2. dummyVars.default(formula = \"~ continent\", data.all, sep = \"_\")",
      "3. is.data.frame(data)"
     ]
    }
   ],
   "source": [
    "library(caret)\n",
    "binarizer <- dummyVars(formula = '~ continent', data.all, sep = '_')\n",
    "\n",
    "\n",
    "continent.binarized <- predict(binarizer, data.all)\n",
    "\n",
    "data.binarized <- cbind(data.all, continent.binarized)\n",
    "data.binarized[data.binarized$year == 2007, \n",
    "               c(\"country\",\n",
    "                 \"continent\",\n",
    "                 \"continent_Africa\", \n",
    "                 \"continent_Americas\", \n",
    "                 \"continent_Asia\",\n",
    "                 \"continent_Europe\",\n",
    "                 \"continent_Oceania\")][1:10,]\n",
    "\n",
    "\n",
    "data.binarized[c(\"continent_Africa\", \n",
    "                 \"continent_Americas\", \n",
    "                 \"continent_Asia\",\n",
    "                 \"continent_Europe\",\n",
    "                 \"continent_Oceania\")] <- (data.binarized[c(\"continent_Africa\", \n",
    "                                                            \"continent_Americas\", \n",
    "                                                            \"continent_Asia\",\n",
    "                                                            \"continent_Europe\",\n",
    "                                                            \"continent_Oceania\")] == 1)\n",
    "\n",
    "data.binarized[data.binarized$year == 2007, \n",
    "               c(\"country\",\n",
    "                 \"continent\",\n",
    "                 \"continent_Africa\", \n",
    "                 \"continent_Americas\", \n",
    "                 \"continent_Asia\",\n",
    "                 \"continent_Europe\",\n",
    "                 \"continent_Oceania\")][1:10,]\n",
    "\n"
   ]
  },
  {
   "cell_type": "code",
   "execution_count": null,
   "metadata": {},
   "outputs": [],
   "source": [
    "# MERGING DATA #\n",
    "* Merging by multiple columns\n",
    "* by.x ; by.y ; all.x = TRUE/FALSE ; all.y = TRUE/FALSE\n",
    "* all = TRUE : OUTER JOIN\n",
    "* all.x = TRUE : LEFT OUTER\n",
    "* all.y = TRUE : RIGHT OUTER\n",
    "* by = NULL : CROSS JOIN (no all.x or all.y)"
   ]
  },
  {
   "cell_type": "code",
   "execution_count": null,
   "metadata": {},
   "outputs": [],
   "source": [
    "merged.data <- merge(x = merged.data, \n",
    "    y = demographic.data, by.x = c(\"Zip\", \"Sex\"), by.y = c(\"ZipCode\", \"Sex\"), all.x = TRUE, all.y = FALSE)"
   ]
  },
  {
   "cell_type": "markdown",
   "metadata": {},
   "source": [
    "# REGEX #"
   ]
  },
  {
   "cell_type": "code",
   "execution_count": 2,
   "metadata": {},
   "outputs": [
    {
     "data": {
      "text/html": [
       "<table>\n",
       "<thead><tr><th scope=col>Address</th></tr></thead>\n",
       "<tbody>\n",
       "\t<tr><td>1 Fireman St. 49884    </td></tr>\n",
       "\t<tr><td>Apt 5, 6 New Ave, 99344</td></tr>\n",
       "\t<tr><td>21 Grey Road 50046 USA </td></tr>\n",
       "</tbody>\n",
       "</table>\n"
      ],
      "text/latex": [
       "\\begin{tabular}{r|l}\n",
       " Address\\\\\n",
       "\\hline\n",
       "\t 1 Fireman St. 49884    \\\\\n",
       "\t Apt 5, 6 New Ave, 99344\\\\\n",
       "\t 21 Grey Road 50046 USA \\\\\n",
       "\\end{tabular}\n"
      ],
      "text/markdown": [
       "\n",
       "| Address |\n",
       "|---|\n",
       "| 1 Fireman St. 49884     |\n",
       "| Apt 5, 6 New Ave, 99344 |\n",
       "| 21 Grey Road 50046 USA  |\n",
       "\n"
      ],
      "text/plain": [
       "  Address                \n",
       "1 1 Fireman St. 49884    \n",
       "2 Apt 5, 6 New Ave, 99344\n",
       "3 21 Grey Road 50046 USA "
      ]
     },
     "metadata": {},
     "output_type": "display_data"
    },
    {
     "data": {
      "text/html": [
       "'49884'"
      ],
      "text/latex": [
       "'49884'"
      ],
      "text/markdown": [
       "'49884'"
      ],
      "text/plain": [
       "[1] \"49884\""
      ]
     },
     "metadata": {},
     "output_type": "display_data"
    }
   ],
   "source": [
    "address.data <- data.frame(Address = c(\"1 Fireman St. 49884\",\"Apt 5, 6 New Ave, 99344\", \"21 Grey Road 50046 USA\"))\n",
    "address.data\n",
    "\n",
    "\n",
    "zipRegex <- \"[0-9]{5}\"\n",
    "\n",
    "## Search through a string using the regular expression\n",
    "library(stringr)\n",
    "testString <- \"1 Fireman St. 49884\"\n",
    "str_extract(testString, zipRegex)\n"
   ]
  },
  {
   "cell_type": "markdown",
   "metadata": {},
   "source": [
    "# 2D HISTOGRAM #"
   ]
  },
  {
   "cell_type": "code",
   "execution_count": 3,
   "metadata": {},
   "outputs": [
    {
     "data": {
      "image/png": "[encoded data removed]",
      "text/plain": [
       "plot without title"
      ]
     },
     "metadata": {},
     "output_type": "display_data"
    }
   ],
   "source": [
    "ggplot(data = diamonds, aes(x=carat, y=price)) + geom_bin2d()\n"
   ]
  },
  {
   "cell_type": "markdown",
   "metadata": {},
   "source": [
    "# GGPAIRS #"
   ]
  },
  {
   "cell_type": "code",
   "execution_count": 4,
   "metadata": {},
   "outputs": [
    {
     "name": "stderr",
     "output_type": "stream",
     "text": [
      "Registered S3 method overwritten by 'GGally':\n",
      "  method from   \n",
      "  +.gg   ggplot2\n",
      "`stat_bin()` using `bins = 30`. Pick better value with `binwidth`.\n",
      "`stat_bin()` using `bins = 30`. Pick better value with `binwidth`.\n"
     ]
    },
    {
     "data": {
      "image/png": "[encoded data removed]",
      "text/plain": [
       "plot without title"
      ]
     },
     "metadata": {},
     "output_type": "display_data"
    }
   ],
   "source": [
    "library(GGally)\n",
    "ggpairs(diamonds, c(1:2, 7))"
   ]
  },
  {
   "cell_type": "markdown",
   "metadata": {},
   "source": [
    "# DATA TRANSFORMATIONS #\n",
    "* Untransformed ; log transformed ; square root transformed"
   ]
  },
  {
   "cell_type": "code",
   "execution_count": 5,
   "metadata": {
    "scrolled": true
   },
   "outputs": [
    {
     "data": {
      "image/png": "[encoded data removed]",
      "text/plain": [
       "plot without title"
      ]
     },
     "metadata": {},
     "output_type": "display_data"
    }
   ],
   "source": [
    "#CHUNK 1\n",
    "library(ggplot2)\n",
    "library(gridExtra)\n",
    "p1 <- ggplot(data = diamonds, aes(price, ..density..)) +\n",
    "        geom_histogram(bins = 100)\n",
    "p2 <- p1 + scale_x_log10() + ggtitle(\"Log10 transformation\")\n",
    "p3 <- p1 + scale_x_sqrt() + ggtitle(\"Square root transformation\")\n",
    "grid.arrange(p1, p2, p3, ncol = 2)"
   ]
  },
  {
   "cell_type": "markdown",
   "metadata": {},
   "source": [
    "# STANDARDIZATION #\n",
    "* Look at the effect of standardization on simulated data"
   ]
  },
  {
   "cell_type": "code",
   "execution_count": 6,
   "metadata": {},
   "outputs": [
    {
     "name": "stdout",
     "output_type": "stream",
     "text": [
      "[1] \"Original mean:  50.3397503631562 ; sd:  28.8297069196058\"\n",
      "[1] \"Standardized mean:  2.02197335480783e-17 ; sd:  1\"\n"
     ]
    },
    {
     "data": {
      "image/png": "[encoded data removed]",
      "text/plain": [
       "plot without title"
      ]
     },
     "metadata": {},
     "output_type": "display_data"
    }
   ],
   "source": [
    "#The original data is 10,000 simlulations of a uniform(0,100) variable\n",
    "original <- runif(10000, min = 0, max = 100)\n",
    "#Use the scale function to standardize and make data frames.\n",
    "standardized <- as.data.frame(scale(original))\n",
    "original <- as.data.frame(original)\n",
    "#Name the variables\n",
    "names(original) <- \"original\"\n",
    "names(standardized) <- \"standardized\"\n",
    "#Graph the data\n",
    "print(paste(\"Original mean: \", mean(original$original), \"; sd: \", sd(original$original)))\n",
    "print(paste(\"Standardized mean: \", mean(standardized$standardized), \"; sd: \", sd(standardized$standardized)))\n",
    "\n",
    "p1 <- ggplot(data = original, aes(x = original)) + geom_density()\n",
    "p2 <- ggplot(data = standardized, aes(x = standardized)) + geom_density()\n",
    "grid.arrange(p1, p2, ncol = 2)\n"
   ]
  },
  {
   "cell_type": "code",
   "execution_count": null,
   "metadata": {},
   "outputs": [],
   "source": []
  }
 ],
 "metadata": {
  "kernelspec": {
   "display_name": "R",
   "language": "R",
   "name": "ir"
  },
  "language_info": {
   "codemirror_mode": "r",
   "file_extension": ".r",
   "mimetype": "text/x-r-source",
   "name": "R",
   "pygments_lexer": "r",
   "version": "3.6.1"
  }
 },
 "nbformat": 4,
 "nbformat_minor": 4
}
