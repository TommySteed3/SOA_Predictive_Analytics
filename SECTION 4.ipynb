{
 "cells": [
  {
   "cell_type": "markdown",
   "metadata": {},
   "source": [
    "# MODULE 4: DATA EXPLORATION #"
   ]
  },
  {
   "cell_type": "markdown",
   "metadata": {},
   "source": [
    "**Univariate Data Exploration**\n",
    "* ID Data Anomalies and outliers using univariate exploration techniques  \n",
    "\n",
    "Data exploration serves many purposes:\n",
    "* Understand basic relationships in the data for commonsense checks on model output\n",
    "* Check relationships against common knowledge and intuition - to ID potential errors that could mislead model.\n",
    "* ID outliers and understand potential effects on the model.\n",
    "* Gain clues and insights for potential predictors."
   ]
  },
  {
   "cell_type": "markdown",
   "metadata": {},
   "source": [
    "**2 ways of understanding variable distribution**\n",
    "* Summary statistics and data visualization\n",
    "* Summary statistics are an important concise view - but perhaps not robust enough (which visualizations should be)\n",
    "* Specifics depends on categorical / numerical.  \n",
    "\n",
    "**Numerical Variables**\n",
    "* Need to understand mean/median ; spread ; skewness ; \"fatness\" of tails ; multimodial \"shapes\"\n",
    "* Summary Statistics ; Histograms ; Box Plots  \n",
    "\n",
    "**Central Tendency**\n",
    "* Mean ; median ; mode ; Percentiles ; Max/Min\n",
    "* Compare Median to Mean for symmetry or skew\n",
    "\n",
    "**Spread of Variable**\n",
    "* Variance ; Interquartile Distance ; Skewness ; Kurtosis\n",
    "* LEFT SKEW:  Negative skew = more values above mean\n",
    "* NEGATIVE KURTOSIS: Thin Tails ; more values (than Normal would suggest) concentrated around mean compared w tails  \n",
    "\n",
    "* Variables that can't be Negative - right skew is expected\n",
    "* Heavily skewed variables make kurtosis less informative\n",
    "\n",
    "**Visualizing Numeric Variables**\n",
    "* Histograms (density plots) and box plots.\n",
    "* Histograms - affected by bin size.  \n",
    "\n",
    "**Categorical Variables**\n",
    "* Frequency Tables provide the simplest way of summarizing a categorical variable.\n",
    "* Look at count as well as frequency\n",
    "* Visualize with bar charts - particularly with increasing number of levels  \n",
    "\n",
    "**Outliers**\n",
    "* Appear to diverge from overall pattern of data.  \n",
    "* Skewed data can explain some.\n",
    "* Can affect models if for instance a y outlier is using OLS.\n",
    "* Should check for univariate vs multivariate outliers.\n",
    "* Should investigate if outliers are natural or errors.\n",
    "* Can remove ; ignore ; use robust model forms ; modify the outlier  \n",
    "\n"
   ]
  },
  {
   "cell_type": "markdown",
   "metadata": {},
   "source": [
    "# BIVARIATE DATA EXPLORATION #\n",
    "* 3 types of variable combinations to explore:\n",
    "    * Categorical/Categorical\n",
    "    * Categorical/Numeric\n",
    "    * Numeric/Numeric\n",
    "\n",
    "**Examine Target Variable Relationship**\n",
    "* Most basic of relationships - necessary before moving onto more complicated relationships.  \n",
    "\n",
    "**Rough Guide for Prioritizing among Numerous Combinations**\n",
    "1. Examine relationship between target and each predictor\n",
    "2. Examine \"obvious\" or well-known relationships\n",
    "3. Other interesting relationships you hypothesize\n",
    "4. Other relationships for sense-checking"
   ]
  },
  {
   "cell_type": "markdown",
   "metadata": {},
   "source": [
    "# PRINCIPAL COMPONENT ANALYSIS #\n",
    "* Unsupervised learning (there is no target variable)\n",
    "* Attempts to simplify high dimensional data.\n",
    "* Retain as much information about the data as possible with as few variables as possible.\n",
    "* For PCA: Information is defined as spread (variance).\n",
    "* Projection onto a direction of maximal variance minimizes distance from an old (higher dimensional) data point to its new transformed value.\n",
    "* These \"directions\" are just linear combinations of the input variables and can be used as \"summary variables\" themselves.\n",
    "* More useful for 3+ Dimensional data - start with simpler 2D example.\n",
    "* Components should be orthogonal (perpendicular) to each other.  Otherwise results are not as helpful - as components can be highly correlated?\n",
    "\n",
    "# SIMPLE EXAMPLE\n",
    "* Subset 2 columns from the diamonds dataset (length and depth).\n",
    "* Center and scale the data (arguments set to TURE)\n",
    "* Show summary\n"
   ]
  },
  {
   "cell_type": "code",
   "execution_count": 1,
   "metadata": {},
   "outputs": [
    {
     "name": "stderr",
     "output_type": "stream",
     "text": [
      "Registered S3 methods overwritten by 'ggplot2':\n",
      "  method         from \n",
      "  [.quosures     rlang\n",
      "  c.quosures     rlang\n",
      "  print.quosures rlang\n"
     ]
    },
    {
     "data": {
      "text/plain": [
       "Importance of components:\n",
       "                          PC1     PC2\n",
       "Standard deviation     1.4110 0.09489\n",
       "Proportion of Variance 0.9955 0.00450\n",
       "Cumulative Proportion  0.9955 1.00000"
      ]
     },
     "metadata": {},
     "output_type": "display_data"
    }
   ],
   "source": [
    "library(ggplot2)\n",
    "diamonds.2d.pca <- subset(diamonds[ ,c(8, 10)], x >= 3 & x <= 10 & z > 0 & z <=7.5)\n",
    "d.pca.2d <- prcomp(diamonds.2d.pca, center = TRUE, scale. = TRUE)\n",
    "summary(d.pca.2d)\n"
   ]
  },
  {
   "cell_type": "markdown",
   "metadata": {},
   "source": [
    "# WHAT ARE THE PRINCIPAL COMPONENTS?\n",
    "* Assume each variable has been centered (mean has been subtracted).\n",
    "* Principal component turns each record into a single number by taking a linear combination of the variable values.\n",
    "* For record (i) - write Principal Component (p) as weighted average of n observations that make up the record.  Weights are for Principal Component (p).\n",
    "* Loadings are determined such that variance is maximized subject to constraint that sum of squares of loadings = 1.  Without this constraint - variance could be increased by simply increasing loadings.\n",
    "\n",
    "\n",
    "# HIGHER DIMENSIONAL DATA \n",
    "* Include more columns from diamonds dataset\n"
   ]
  },
  {
   "cell_type": "code",
   "execution_count": 2,
   "metadata": {},
   "outputs": [
    {
     "data": {
      "text/plain": [
       "Importance of components:\n",
       "                          PC1    PC2     PC3     PC4    PC5\n",
       "Standard deviation     1.9531 1.0053 0.40717 0.08745 0.0389\n",
       "Proportion of Variance 0.7629 0.2021 0.03316 0.00153 0.0003\n",
       "Cumulative Proportion  0.7629 0.9650 0.99817 0.99970 1.0000"
      ]
     },
     "metadata": {},
     "output_type": "display_data"
    }
   ],
   "source": [
    "diamonds.5d.pca <- subset(diamonds[ ,c(5, 7:10)], x >= 3 & x <= 10 & z > 0 & z <=7.5)\n",
    "d.pca.5d <- prcomp(diamonds.5d.pca, center = TRUE, scale. = TRUE)\n",
    "summary(d.pca.5d)\n"
   ]
  },
  {
   "cell_type": "markdown",
   "metadata": {},
   "source": [
    "# DEFINE COMPONENTS\n"
   ]
  },
  {
   "cell_type": "code",
   "execution_count": 3,
   "metadata": {},
   "outputs": [
    {
     "data": {
      "text/html": [
       "<table>\n",
       "<thead><tr><th></th><th scope=col>PC1</th><th scope=col>PC2</th><th scope=col>PC3</th><th scope=col>PC4</th><th scope=col>PC5</th></tr></thead>\n",
       "<tbody>\n",
       "\t<tr><th scope=row>depth</th><td>0.005726407 </td><td> 0.99460964 </td><td> 0.0249120  </td><td>-0.043331493</td><td> 0.090667807</td></tr>\n",
       "\t<tr><th scope=row>price</th><td>0.478009344 </td><td>-0.02502456 </td><td> 0.8779693  </td><td>-0.007121981</td><td>-0.000310855</td></tr>\n",
       "\t<tr><th scope=row>x</th><td>0.507886226 </td><td>-0.03518147 </td><td>-0.2733825  </td><td> 0.481397261</td><td> 0.659039114</td></tr>\n",
       "\t<tr><th scope=row>y</th><td>0.506911756 </td><td>-0.03841566 </td><td>-0.2836171  </td><td>-0.809086934</td><td> 0.080649640</td></tr>\n",
       "\t<tr><th scope=row>z</th><td>0.506523769 </td><td> 0.08609264 </td><td>-0.2708740  </td><td> 0.334225477</td><td>-0.742254898</td></tr>\n",
       "</tbody>\n",
       "</table>\n"
      ],
      "text/latex": [
       "\\begin{tabular}{r|lllll}\n",
       "  & PC1 & PC2 & PC3 & PC4 & PC5\\\\\n",
       "\\hline\n",
       "\tdepth & 0.005726407  &  0.99460964  &  0.0249120   & -0.043331493 &  0.090667807\\\\\n",
       "\tprice & 0.478009344  & -0.02502456  &  0.8779693   & -0.007121981 & -0.000310855\\\\\n",
       "\tx & 0.507886226  & -0.03518147  & -0.2733825   &  0.481397261 &  0.659039114\\\\\n",
       "\ty & 0.506911756  & -0.03841566  & -0.2836171   & -0.809086934 &  0.080649640\\\\\n",
       "\tz & 0.506523769  &  0.08609264  & -0.2708740   &  0.334225477 & -0.742254898\\\\\n",
       "\\end{tabular}\n"
      ],
      "text/markdown": [
       "\n",
       "| <!--/--> | PC1 | PC2 | PC3 | PC4 | PC5 |\n",
       "|---|---|---|---|---|---|\n",
       "| depth | 0.005726407  |  0.99460964  |  0.0249120   | -0.043331493 |  0.090667807 |\n",
       "| price | 0.478009344  | -0.02502456  |  0.8779693   | -0.007121981 | -0.000310855 |\n",
       "| x | 0.507886226  | -0.03518147  | -0.2733825   |  0.481397261 |  0.659039114 |\n",
       "| y | 0.506911756  | -0.03841566  | -0.2836171   | -0.809086934 |  0.080649640 |\n",
       "| z | 0.506523769  |  0.08609264  | -0.2708740   |  0.334225477 | -0.742254898 |\n",
       "\n"
      ],
      "text/plain": [
       "      PC1         PC2         PC3        PC4          PC5         \n",
       "depth 0.005726407  0.99460964  0.0249120 -0.043331493  0.090667807\n",
       "price 0.478009344 -0.02502456  0.8779693 -0.007121981 -0.000310855\n",
       "x     0.507886226 -0.03518147 -0.2733825  0.481397261  0.659039114\n",
       "y     0.506911756 -0.03841566 -0.2836171 -0.809086934  0.080649640\n",
       "z     0.506523769  0.08609264 -0.2708740  0.334225477 -0.742254898"
      ]
     },
     "metadata": {},
     "output_type": "display_data"
    }
   ],
   "source": [
    "d.pca.5d$rotation"
   ]
  },
  {
   "cell_type": "markdown",
   "metadata": {},
   "source": [
    "# CENTERING AND SCALING\n",
    "* Centering needs to be done regardless - so easier to do that up front.\n",
    "* Scaling only matters if you have different scales for various components.\n",
    "* To demonstrate, look at a couple of examples with and without scaling ; with and without centering.\n"
   ]
  },
  {
   "cell_type": "code",
   "execution_count": 5,
   "metadata": {},
   "outputs": [],
   "source": [
    "set.seed(1000)\n",
    "diamonds.sample <- diamonds[sample(1:nrow(diamonds), 5000), ]\n",
    "diamonds.3d.sample <- subset(diamonds.sample[ ,c(8:10)], x >= 3 & x <= 10 & z > 0 & z <=7.5)\n",
    "diamonds.5d.sample <- subset(diamonds.sample[ ,c(5, 7:10)], x >= 3 & x <= 10 & z > 0 & z <=7.5)\n",
    "\n",
    "#Compute PCA for the two samples, one scaled and one without\n",
    "d.3d.scale <- prcomp(diamonds.3d.sample , center = TRUE, scale. = TRUE)\n",
    "d.3d.noscale <- prcomp(diamonds.3d.sample , center = TRUE, scale. = FALSE)\n",
    "d.5d.scale <- prcomp(diamonds.5d.sample , center = TRUE, scale. = TRUE)\n",
    "d.5d.noscale <- prcomp(diamonds.5d.sample , center = TRUE, scale. = FALSE)\n",
    "\n"
   ]
  },
  {
   "cell_type": "markdown",
   "metadata": {},
   "source": [
    "# 3D DATASET SUMMARY\n",
    "* All 3 columns on very similar scale\n"
   ]
  },
  {
   "cell_type": "code",
   "execution_count": 6,
   "metadata": {},
   "outputs": [
    {
     "data": {
      "text/plain": [
       "       x               y               z        \n",
       " Min.   :3.790   Min.   :3.750   Min.   :2.270  \n",
       " 1st Qu.:4.700   1st Qu.:4.710   1st Qu.:2.900  \n",
       " Median :5.690   Median :5.710   Median :3.520  \n",
       " Mean   :5.727   Mean   :5.729   Mean   :3.535  \n",
       " 3rd Qu.:6.540   3rd Qu.:6.540   3rd Qu.:4.040  \n",
       " Max.   :9.440   Max.   :9.370   Max.   :5.970  "
      ]
     },
     "metadata": {},
     "output_type": "display_data"
    }
   ],
   "source": [
    "summary(diamonds.3d.sample)\n"
   ]
  },
  {
   "cell_type": "markdown",
   "metadata": {},
   "source": [
    "# 5D DATASET SUMMARY\n",
    "* New columns much larger than original 3.  Especially price.\n"
   ]
  },
  {
   "cell_type": "code",
   "execution_count": 7,
   "metadata": {},
   "outputs": [
    {
     "data": {
      "text/plain": [
       "     depth           price             x               y        \n",
       " Min.   :53.20   Min.   :  327   Min.   :3.790   Min.   :3.750  \n",
       " 1st Qu.:61.00   1st Qu.:  945   1st Qu.:4.700   1st Qu.:4.710  \n",
       " Median :61.80   Median : 2389   Median :5.690   Median :5.710  \n",
       " Mean   :61.73   Mean   : 3927   Mean   :5.727   Mean   :5.729  \n",
       " 3rd Qu.:62.50   3rd Qu.: 5376   3rd Qu.:6.540   3rd Qu.:6.540  \n",
       " Max.   :70.20   Max.   :18768   Max.   :9.440   Max.   :9.370  \n",
       "       z        \n",
       " Min.   :2.270  \n",
       " 1st Qu.:2.900  \n",
       " Median :3.520  \n",
       " Mean   :3.535  \n",
       " 3rd Qu.:4.040  \n",
       " Max.   :5.970  "
      ]
     },
     "metadata": {},
     "output_type": "display_data"
    }
   ],
   "source": [
    "summary(diamonds.5d.sample)\n"
   ]
  },
  {
   "cell_type": "markdown",
   "metadata": {},
   "source": [
    "# P1: 3D SCALED\n"
   ]
  },
  {
   "cell_type": "code",
   "execution_count": 8,
   "metadata": {},
   "outputs": [
    {
     "data": {
      "image/png": "[encoded data removed]",
      "text/plain": [
       "plot without title"
      ]
     },
     "metadata": {},
     "output_type": "display_data"
    }
   ],
   "source": [
    "p1 <- biplot(d.3d.scale , scale = 0) #main = \"3D Scaled\"\n"
   ]
  },
  {
   "cell_type": "markdown",
   "metadata": {},
   "source": [
    "# P2: 3d NO SCALE\n"
   ]
  },
  {
   "cell_type": "code",
   "execution_count": 9,
   "metadata": {},
   "outputs": [
    {
     "data": {
      "image/png": "[encoded data removed]",
      "text/plain": [
       "plot without title"
      ]
     },
     "metadata": {},
     "output_type": "display_data"
    }
   ],
   "source": [
    "p2 <- biplot(d.3d.noscale , scale = 0) #main = \"3D No Scale\"\n"
   ]
  },
  {
   "cell_type": "markdown",
   "metadata": {},
   "source": [
    "# P3: 5D SCALED\n"
   ]
  },
  {
   "cell_type": "code",
   "execution_count": 10,
   "metadata": {},
   "outputs": [
    {
     "data": {
      "image/png": "[encoded data removed]",
      "text/plain": [
       "plot without title"
      ]
     },
     "metadata": {},
     "output_type": "display_data"
    }
   ],
   "source": [
    "p3 <- biplot(d.5d.scale , scale = 0) #main = \"5D Scaled\"\n"
   ]
  },
  {
   "cell_type": "markdown",
   "metadata": {},
   "source": [
    "# P4: 5D NO SCALE\n"
   ]
  },
  {
   "cell_type": "code",
   "execution_count": 11,
   "metadata": {},
   "outputs": [
    {
     "data": {
      "image/png": "[encoded data removed]",
      "text/plain": [
       "plot without title"
      ]
     },
     "metadata": {},
     "output_type": "display_data"
    }
   ],
   "source": [
    "p4 <- biplot(d.5d.noscale , scale = 0)  #main = \"5D No Scale\"\n"
   ]
  },
  {
   "cell_type": "markdown",
   "metadata": {},
   "source": [
    "# SCALE NO SCALE\n"
   ]
  },
  {
   "cell_type": "code",
   "execution_count": 12,
   "metadata": {},
   "outputs": [
    {
     "data": {
      "text/plain": [
       "Importance of components:\n",
       "                          PC1     PC2     PC3\n",
       "Standard deviation     1.7285 0.10403 0.03866\n",
       "Proportion of Variance 0.9959 0.00361 0.00050\n",
       "Cumulative Proportion  0.9959 0.99950 1.00000"
      ]
     },
     "metadata": {},
     "output_type": "display_data"
    },
    {
     "data": {
      "text/html": [
       "<table>\n",
       "<thead><tr><th></th><th scope=col>PC1</th><th scope=col>PC2</th><th scope=col>PC3</th></tr></thead>\n",
       "<tbody>\n",
       "\t<tr><th scope=row>x</th><td>0.5778063   </td><td>-0.4058435  </td><td> 0.708117896</td></tr>\n",
       "\t<tr><th scope=row>y</th><td>0.5777985   </td><td>-0.4093703  </td><td>-0.706091269</td></tr>\n",
       "\t<tr><th scope=row>z</th><td>0.5764450   </td><td> 0.8171334  </td><td>-0.002040932</td></tr>\n",
       "</tbody>\n",
       "</table>\n"
      ],
      "text/latex": [
       "\\begin{tabular}{r|lll}\n",
       "  & PC1 & PC2 & PC3\\\\\n",
       "\\hline\n",
       "\tx & 0.5778063    & -0.4058435   &  0.708117896\\\\\n",
       "\ty & 0.5777985    & -0.4093703   & -0.706091269\\\\\n",
       "\tz & 0.5764450    &  0.8171334   & -0.002040932\\\\\n",
       "\\end{tabular}\n"
      ],
      "text/markdown": [
       "\n",
       "| <!--/--> | PC1 | PC2 | PC3 |\n",
       "|---|---|---|---|\n",
       "| x | 0.5778063    | -0.4058435   |  0.708117896 |\n",
       "| y | 0.5777985    | -0.4093703   | -0.706091269 |\n",
       "| z | 0.5764450    |  0.8171334   | -0.002040932 |\n",
       "\n"
      ],
      "text/plain": [
       "  PC1       PC2        PC3         \n",
       "x 0.5778063 -0.4058435  0.708117896\n",
       "y 0.5777985 -0.4093703 -0.706091269\n",
       "z 0.5764450  0.8171334 -0.002040932"
      ]
     },
     "metadata": {},
     "output_type": "display_data"
    },
    {
     "data": {
      "text/plain": [
       "Importance of components:\n",
       "                          PC1     PC2     PC3\n",
       "Standard deviation     1.7291 0.08088 0.04338\n",
       "Proportion of Variance 0.9972 0.00218 0.00063\n",
       "Cumulative Proportion  0.9972 0.99937 1.00000"
      ]
     },
     "metadata": {},
     "output_type": "display_data"
    },
    {
     "data": {
      "text/html": [
       "<table>\n",
       "<thead><tr><th></th><th scope=col>PC1</th><th scope=col>PC2</th><th scope=col>PC3</th></tr></thead>\n",
       "<tbody>\n",
       "\t<tr><th scope=row>x</th><td>0.6510776   </td><td>-0.2807698  </td><td> 0.705171108</td></tr>\n",
       "\t<tr><th scope=row>y</th><td>0.6459405   </td><td>-0.2829049  </td><td>-0.709031512</td></tr>\n",
       "\t<tr><th scope=row>z</th><td>0.3985711   </td><td> 0.9171331  </td><td>-0.002832469</td></tr>\n",
       "</tbody>\n",
       "</table>\n"
      ],
      "text/latex": [
       "\\begin{tabular}{r|lll}\n",
       "  & PC1 & PC2 & PC3\\\\\n",
       "\\hline\n",
       "\tx & 0.6510776    & -0.2807698   &  0.705171108\\\\\n",
       "\ty & 0.6459405    & -0.2829049   & -0.709031512\\\\\n",
       "\tz & 0.3985711    &  0.9171331   & -0.002832469\\\\\n",
       "\\end{tabular}\n"
      ],
      "text/markdown": [
       "\n",
       "| <!--/--> | PC1 | PC2 | PC3 |\n",
       "|---|---|---|---|\n",
       "| x | 0.6510776    | -0.2807698   |  0.705171108 |\n",
       "| y | 0.6459405    | -0.2829049   | -0.709031512 |\n",
       "| z | 0.3985711    |  0.9171331   | -0.002832469 |\n",
       "\n"
      ],
      "text/plain": [
       "  PC1       PC2        PC3         \n",
       "x 0.6510776 -0.2807698  0.705171108\n",
       "y 0.6459405 -0.2829049 -0.709031512\n",
       "z 0.3985711  0.9171331 -0.002832469"
      ]
     },
     "metadata": {},
     "output_type": "display_data"
    }
   ],
   "source": [
    "summary(d.3d.scale)\n",
    "d.3d.scale$rotation\n",
    "summary(d.3d.noscale)\n",
    "d.3d.noscale$rotation\n"
   ]
  },
  {
   "cell_type": "markdown",
   "metadata": {},
   "source": [
    "# 5 VARIABLE PROBLEM\n"
   ]
  },
  {
   "cell_type": "code",
   "execution_count": 13,
   "metadata": {},
   "outputs": [
    {
     "data": {
      "text/plain": [
       "Importance of components:\n",
       "                          PC1    PC2     PC3     PC4     PC5\n",
       "Standard deviation     1.9544 1.0051 0.41018 0.03862 0.02286\n",
       "Proportion of Variance 0.7639 0.2020 0.03365 0.00030 0.00010\n",
       "Cumulative Proportion  0.7639 0.9659 0.99960 0.99990 1.00000"
      ]
     },
     "metadata": {},
     "output_type": "display_data"
    },
    {
     "data": {
      "text/html": [
       "<table>\n",
       "<thead><tr><th></th><th scope=col>PC1</th><th scope=col>PC2</th><th scope=col>PC3</th><th scope=col>PC4</th><th scope=col>PC5</th></tr></thead>\n",
       "<tbody>\n",
       "\t<tr><th scope=row>depth</th><td>-0.01133691 </td><td>-0.99466820 </td><td>-0.01769969 </td><td> 0.005781080</td><td>-0.100796556</td></tr>\n",
       "\t<tr><th scope=row>price</th><td> 0.47725732 </td><td> 0.01004987 </td><td>-0.87868674 </td><td> 0.005563671</td><td> 0.001763343</td></tr>\n",
       "\t<tr><th scope=row>x</th><td> 0.50783152 </td><td> 0.02996502 </td><td> 0.28007094 </td><td> 0.730125962</td><td>-0.360118863</td></tr>\n",
       "\t<tr><th scope=row>y</th><td> 0.50804428 </td><td> 0.03114102 </td><td> 0.27108157 </td><td>-0.681128213</td><td>-0.451110170</td></tr>\n",
       "\t<tr><th scope=row>z</th><td> 0.50605838 </td><td>-0.09309407 </td><td> 0.27508432 </td><td>-0.054000579</td><td> 0.810340030</td></tr>\n",
       "</tbody>\n",
       "</table>\n"
      ],
      "text/latex": [
       "\\begin{tabular}{r|lllll}\n",
       "  & PC1 & PC2 & PC3 & PC4 & PC5\\\\\n",
       "\\hline\n",
       "\tdepth & -0.01133691  & -0.99466820  & -0.01769969  &  0.005781080 & -0.100796556\\\\\n",
       "\tprice &  0.47725732  &  0.01004987  & -0.87868674  &  0.005563671 &  0.001763343\\\\\n",
       "\tx &  0.50783152  &  0.02996502  &  0.28007094  &  0.730125962 & -0.360118863\\\\\n",
       "\ty &  0.50804428  &  0.03114102  &  0.27108157  & -0.681128213 & -0.451110170\\\\\n",
       "\tz &  0.50605838  & -0.09309407  &  0.27508432  & -0.054000579 &  0.810340030\\\\\n",
       "\\end{tabular}\n"
      ],
      "text/markdown": [
       "\n",
       "| <!--/--> | PC1 | PC2 | PC3 | PC4 | PC5 |\n",
       "|---|---|---|---|---|---|\n",
       "| depth | -0.01133691  | -0.99466820  | -0.01769969  |  0.005781080 | -0.100796556 |\n",
       "| price |  0.47725732  |  0.01004987  | -0.87868674  |  0.005563671 |  0.001763343 |\n",
       "| x |  0.50783152  |  0.02996502  |  0.28007094  |  0.730125962 | -0.360118863 |\n",
       "| y |  0.50804428  |  0.03114102  |  0.27108157  | -0.681128213 | -0.451110170 |\n",
       "| z |  0.50605838  | -0.09309407  |  0.27508432  | -0.054000579 |  0.810340030 |\n",
       "\n"
      ],
      "text/plain": [
       "      PC1         PC2         PC3         PC4          PC5         \n",
       "depth -0.01133691 -0.99466820 -0.01769969  0.005781080 -0.100796556\n",
       "price  0.47725732  0.01004987 -0.87868674  0.005563671  0.001763343\n",
       "x      0.50783152  0.02996502  0.28007094  0.730125962 -0.360118863\n",
       "y      0.50804428  0.03114102  0.27108157 -0.681128213 -0.451110170\n",
       "z      0.50605838 -0.09309407  0.27508432 -0.054000579  0.810340030"
      ]
     },
     "metadata": {},
     "output_type": "display_data"
    },
    {
     "data": {
      "text/plain": [
       "Importance of components:\n",
       "                        PC1   PC2    PC3    PC4     PC5\n",
       "Standard deviation     3984 1.419 0.8016 0.0433 0.01786\n",
       "Proportion of Variance    1 0.000 0.0000 0.0000 0.00000\n",
       "Cumulative Proportion     1 1.000 1.0000 1.0000 1.00000"
      ]
     },
     "metadata": {},
     "output_type": "display_data"
    },
    {
     "data": {
      "text/html": [
       "<table>\n",
       "<thead><tr><th></th><th scope=col>PC1</th><th scope=col>PC2</th><th scope=col>PC3</th><th scope=col>PC4</th><th scope=col>PC5</th></tr></thead>\n",
       "<tbody>\n",
       "\t<tr><th scope=row>depth</th><td>-1.001522e-05</td><td>-9.983332e-01</td><td> 0.0155160013</td><td>-1.481310e-03</td><td> 5.556879e-02</td></tr>\n",
       "\t<tr><th scope=row>price</th><td> 9.999999e-01</td><td>-1.601593e-05</td><td>-0.0003843126</td><td>-1.600958e-06</td><td>-2.409386e-07</td></tr>\n",
       "\t<tr><th scope=row>x</th><td> 2.501101e-04</td><td> 2.547497e-02</td><td> 0.6525446078</td><td>-7.125702e-01</td><td> 2.564765e-01</td></tr>\n",
       "\t<tr><th scope=row>y</th><td> 2.486224e-04</td><td> 2.613444e-02</td><td> 0.6427261027</td><td> 7.006431e-01</td><td> 3.087383e-01</td></tr>\n",
       "\t<tr><th scope=row>z</th><td> 1.532541e-04</td><td>-4.470847e-02</td><td> 0.4010583471</td><td> 3.661616e-02</td><td>-9.142279e-01</td></tr>\n",
       "</tbody>\n",
       "</table>\n"
      ],
      "text/latex": [
       "\\begin{tabular}{r|lllll}\n",
       "  & PC1 & PC2 & PC3 & PC4 & PC5\\\\\n",
       "\\hline\n",
       "\tdepth & -1.001522e-05 & -9.983332e-01 &  0.0155160013 & -1.481310e-03 &  5.556879e-02\\\\\n",
       "\tprice &  9.999999e-01 & -1.601593e-05 & -0.0003843126 & -1.600958e-06 & -2.409386e-07\\\\\n",
       "\tx &  2.501101e-04 &  2.547497e-02 &  0.6525446078 & -7.125702e-01 &  2.564765e-01\\\\\n",
       "\ty &  2.486224e-04 &  2.613444e-02 &  0.6427261027 &  7.006431e-01 &  3.087383e-01\\\\\n",
       "\tz &  1.532541e-04 & -4.470847e-02 &  0.4010583471 &  3.661616e-02 & -9.142279e-01\\\\\n",
       "\\end{tabular}\n"
      ],
      "text/markdown": [
       "\n",
       "| <!--/--> | PC1 | PC2 | PC3 | PC4 | PC5 |\n",
       "|---|---|---|---|---|---|\n",
       "| depth | -1.001522e-05 | -9.983332e-01 |  0.0155160013 | -1.481310e-03 |  5.556879e-02 |\n",
       "| price |  9.999999e-01 | -1.601593e-05 | -0.0003843126 | -1.600958e-06 | -2.409386e-07 |\n",
       "| x |  2.501101e-04 |  2.547497e-02 |  0.6525446078 | -7.125702e-01 |  2.564765e-01 |\n",
       "| y |  2.486224e-04 |  2.613444e-02 |  0.6427261027 |  7.006431e-01 |  3.087383e-01 |\n",
       "| z |  1.532541e-04 | -4.470847e-02 |  0.4010583471 |  3.661616e-02 | -9.142279e-01 |\n",
       "\n"
      ],
      "text/plain": [
       "      PC1           PC2           PC3           PC4           PC5          \n",
       "depth -1.001522e-05 -9.983332e-01  0.0155160013 -1.481310e-03  5.556879e-02\n",
       "price  9.999999e-01 -1.601593e-05 -0.0003843126 -1.600958e-06 -2.409386e-07\n",
       "x      2.501101e-04  2.547497e-02  0.6525446078 -7.125702e-01  2.564765e-01\n",
       "y      2.486224e-04  2.613444e-02  0.6427261027  7.006431e-01  3.087383e-01\n",
       "z      1.532541e-04 -4.470847e-02  0.4010583471  3.661616e-02 -9.142279e-01"
      ]
     },
     "metadata": {},
     "output_type": "display_data"
    }
   ],
   "source": [
    "summary(d.5d.scale)\n",
    "d.5d.scale$rotation\n",
    "summary(d.5d.noscale)\n",
    "d.5d.noscale$rotation\n"
   ]
  },
  {
   "cell_type": "markdown",
   "metadata": {},
   "source": [
    "# CLUSTERING #"
   ]
  },
  {
   "cell_type": "markdown",
   "metadata": {},
   "source": [
    "Clustering is an example of unsupervised learning (like PCA).  We do not have a target variable in mind when running this algorithm.  The goal of clustering is to assign each observation to a limited number of groups.  Each observation within a group should be similar to each other in some way.\n",
    "\n",
    "**K-Means Clustering:** K-means algorithm defines a group by its center.  Each observation is assigned to the group with the closest center.  Need to be careful of outliers with this algorithm.  Uses the following iterative algorith:\n",
    "\n",
    "1. Pick k random centers.\n",
    "2. Assign each observation to the group that has the closest center.\n",
    "3. Calculate new centers for groups formed in step 2.\n",
    "4. If difference between centers from steps 2 and 3 is below threshold - done - otherwise back to step 2.\n"
   ]
  },
  {
   "cell_type": "code",
   "execution_count": 15,
   "metadata": {},
   "outputs": [
    {
     "data": {
      "image/png": "[encoded data removed]",
      "text/plain": [
       "plot without title"
      ]
     },
     "metadata": {},
     "output_type": "display_data"
    }
   ],
   "source": [
    "library(ggplot2)\n",
    "library(gridExtra)\n",
    "set.seed(1000)\n",
    "income_male <- rnorm(100, 70000, 10000)\n",
    "income_female <- rnorm(100, 45000, 5000)\n",
    "age <- rnorm(100, 65, 10)\n",
    "age2 <- rnorm(100, 35, 5)\n",
    "\n",
    "df <- data.frame(a = c(income_male,income_female), b = c(age,age2))\n",
    "\n",
    "df$group_random <- NULL\n",
    "df$a <- scale(df$a)\n",
    "df$b <- scale(df$b)\n",
    "km2 <- kmeans(df, 2)\n",
    "df$group2 <- as.factor(km2$cluster)\n",
    "\n",
    "ggplot(data = df, aes(x = b, y = a, col = group2)) + \n",
    "  geom_point() +\n",
    "  theme(axis.text = element_blank(), legend.title = element_blank()) +\n",
    "  ggtitle(\"Clustering with 2 groups\")\n"
   ]
  },
  {
   "cell_type": "markdown",
   "metadata": {},
   "source": [
    "**NOTES:**  \n",
    "\n",
    "* Need to scale data before applying algorithm which uses distance.\n",
    "* Need to remove algorithms which will distort results.\n",
    "\n",
    "# CURSE OF DIMENSIONALITY\n",
    "As the number of dimensions increases...\n",
    "* Visualizations become impossible.\n",
    "* As number of dimensions increases, distance between points converges.  \n",
    "\n",
    "# HOW MANY CLUSTERS?  ELBOW METHOD!\n",
    "* Elbow Method: Percentage of variance explained as we add each cluster.\n",
    "* Look for this to drop off at some point.\n",
    "\n",
    "# HIERARCHICAL CLUSTERING\n",
    "Similar to k-means clustering.  Instead of finding k-distinct clusters - build a hierarchy of clusters without specifying the number of clusters in advance.  In the end - forms a tree structure.  2 approaches:\n",
    "\n",
    "* Agglomerative: Begin by considering each observation as a cluster.  Gradually group with nearby clusters until you have just one cluster.  Bottom-Up approach.\n",
    "* Divisive: Work from single cluster to a cluster for each observation.  Top-Down approach.\n",
    "* Dendograms form a nice view of this hierarchy."
   ]
  },
  {
   "cell_type": "code",
   "execution_count": null,
   "metadata": {},
   "outputs": [],
   "source": []
  }
 ],
 "metadata": {
  "kernelspec": {
   "display_name": "R",
   "language": "R",
   "name": "ir"
  },
  "language_info": {
   "codemirror_mode": "r",
   "file_extension": ".r",
   "mimetype": "text/x-r-source",
   "name": "R",
   "pygments_lexer": "r",
   "version": "3.6.1"
  }
 },
 "nbformat": 4,
 "nbformat_minor": 4
}
